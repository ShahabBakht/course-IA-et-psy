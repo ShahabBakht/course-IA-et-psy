{
 "cells": [
  {
   "cell_type": "markdown",
   "metadata": {},
   "source": [
    "# 4.3 Exercices Pratiques - Régression et Classification\n",
    "\n",
    "## PSY3913/6913 - IA, Psychologie et Neuroscience Cognitive\n",
    "\n",
    "Ce notebook contient des exercices progressifs pour mettre en pratique les concepts de régression et classification linéaires.\n",
    "\n",
    "**Instructions:**\n",
    "- Lisez attentivement chaque exercice\n",
    "- Complétez le code dans les cellules prévues\n",
    "- Exécutez et testez votre code\n",
    "- Répondez aux questions de réflexion"
   ]
  },
  {
   "cell_type": "markdown",
   "metadata": {},
   "source": [
    "## Setup"
   ]
  },
  {
   "cell_type": "code",
   "execution_count": null,
   "metadata": {},
   "outputs": [],
   "source": [
    "import numpy as np\n",
    "import matplotlib.pyplot as plt\n",
    "from sklearn.linear_model import LinearRegression, LogisticRegression\n",
    "from sklearn.metrics import mean_squared_error, r2_score, accuracy_score, confusion_matrix\n",
    "from sklearn.model_selection import train_test_split\n",
    "from sklearn.preprocessing import PolynomialFeatures, StandardScaler\n",
    "from sklearn.datasets import make_circles\n",
    "import seaborn as sns\n",
    "\n",
    "plt.style.use('seaborn-v0_8-darkgrid')\n",
    "plt.rcParams['figure.figsize'] = (10, 6)\n",
    "np.random.seed(42)"
   ]
  },
  {
   "cell_type": "markdown",
   "metadata": {},
   "source": [
    "---\n",
    "\n",
    "## Exercice 1 : Régression avec features polynomiales\n",
    "\n",
    "### Contexte\n",
    "Dans cet exercice, vous allez découvrir comment améliorer un modèle linéaire en ajoutant des features polynomiales pour capturer des relations non-linéaires.\n",
    "\n",
    "### Données\n",
    "Nous allons créer des données suivant une relation **quadratique** : $y = 0.5x^2 + 2x + 1 + \\text{bruit}$"
   ]
  },
  {
   "cell_type": "code",
   "execution_count": null,
   "metadata": {},
   "outputs": [],
   "source": [
    "# Générer les données\n",
    "np.random.seed(42)\n",
    "X_ex1 = np.random.rand(100, 1) * 10 - 5  # Valeurs entre -5 et 5\n",
    "y_ex1 = 0.5 * X_ex1**2 + 2 * X_ex1 + 1 + np.random.randn(100, 1) * 5\n",
    "\n",
    "# Visualisation\n",
    "plt.figure(figsize=(10, 6))\n",
    "plt.scatter(X_ex1, y_ex1, alpha=0.6)\n",
    "plt.xlabel('x')\n",
    "plt.ylabel('y')\n",
    "plt.title('Données avec relation non-linéaire')\n",
    "plt.grid(True, alpha=0.3)\n",
    "plt.show()\n",
    "\n",
    "print(\"💡 Observation: Les données suivent clairement une courbe, pas une ligne!\")"
   ]
  },
  {
   "cell_type": "markdown",
   "metadata": {},
   "source": [
    "### Tâche 1.1 : Modèle linéaire simple\n",
    "\n",
    "Commencez par entraîner un modèle de régression linéaire simple sur ces données."
   ]
  },
  {
   "cell_type": "code",
   "execution_count": null,
   "metadata": {},
   "outputs": [],
   "source": [
    "# TODO: Créer et entraîner un modèle de régression linéaire\n",
    "model_linear = LinearRegression()\n",
    "# Votre code ici\n",
    "\n",
    "\n",
    "# TODO: Faire des prédictions\n",
    "y_pred_linear = # Votre code ici\n",
    "\n",
    "# TODO: Calculer R² et MSE\n",
    "r2_linear = # Votre code ici\n",
    "mse_linear = # Votre code ici\n",
    "\n",
    "print(f\"📈 Performance du modèle linéaire:\")\n",
    "print(f\"   R² = {r2_linear:.4f}\")\n",
    "print(f\"   MSE = {mse_linear:.4f}\")\n",
    "\n",
    "# Visualisation\n",
    "X_plot = np.linspace(-5, 5, 100).reshape(-1, 1)\n",
    "y_plot_linear = model_linear.predict(X_plot)\n",
    "\n",
    "plt.figure(figsize=(10, 6))\n",
    "plt.scatter(X_ex1, y_ex1, alpha=0.6, label='Données')\n",
    "plt.plot(X_plot, y_plot_linear, 'r-', linewidth=2, label='Régression linéaire')\n",
    "plt.xlabel('x')\n",
    "plt.ylabel('y')\n",
    "plt.title('Régression linéaire sur données non-linéaires')\n",
    "plt.legend()\n",
    "plt.grid(True, alpha=0.3)\n",
    "plt.show()"
   ]
  },
  {
   "cell_type": "markdown",
   "metadata": {},
   "source": [
    "### Tâche 1.2 : Modèle avec features polynomiales\n",
    "\n",
    "Maintenant, utilisez `PolynomialFeatures` pour créer des features polynomiales de degré 2, puis entraînez un nouveau modèle."
   ]
  },
  {
   "cell_type": "code",
   "execution_count": null,
   "metadata": {},
   "outputs": [],
   "source": [
    "# TODO: Créer des features polynomiales (degré 2)\n",
    "poly = PolynomialFeatures(degree=2, include_bias=False)\n",
    "X_poly = # Votre code ici\n",
    "\n",
    "print(f\"Forme originale: {X_ex1.shape}\")\n",
    "print(f\"Forme avec features polynomiales: {X_poly.shape}\")\n",
    "print(f\"\\nFeatures créées: x, x²\")\n",
    "\n",
    "# TODO: Entraîner le modèle sur les features polynomiales\n",
    "model_poly = LinearRegression()\n",
    "# Votre code ici\n",
    "\n",
    "\n",
    "# TODO: Faire des prédictions\n",
    "y_pred_poly = # Votre code ici\n",
    "\n",
    "# TODO: Calculer R² et MSE\n",
    "r2_poly = # Votre code ici\n",
    "mse_poly = # Votre code ici\n",
    "\n",
    "print(f\"\\n📈 Performance du modèle polynomial:\")\n",
    "print(f\"   R² = {r2_poly:.4f}\")\n",
    "print(f\"   MSE = {mse_poly:.4f}\")\n",
    "\n",
    "# Visualisation\n",
    "X_plot_poly = poly.transform(X_plot)\n",
    "y_plot_poly = model_poly.predict(X_plot_poly)\n",
    "\n",
    "plt.figure(figsize=(10, 6))\n",
    "plt.scatter(X_ex1, y_ex1, alpha=0.6, label='Données')\n",
    "plt.plot(X_plot, y_plot_linear, 'r-', linewidth=2, label='Linéaire', alpha=0.5)\n",
    "plt.plot(X_plot, y_plot_poly, 'g-', linewidth=2, label='Polynomial (degré 2)')\n",
    "plt.xlabel('x')\n",
    "plt.ylabel('y')\n",
    "plt.title('Comparaison: Linéaire vs Polynomial')\n",
    "plt.legend()\n",
    "plt.grid(True, alpha=0.3)\n",
    "plt.show()\n",
    "\n",
    "print(f\"\\n📊 Comparaison:\")\n",
    "print(f\"   Amélioration du R²: {r2_poly - r2_linear:.4f}\")\n",
    "print(f\"   Réduction du MSE: {mse_linear - mse_poly:.4f}\")"
   ]
  },
  {
   "cell_type": "markdown",
   "metadata": {},
   "source": [
    "### Question de réflexion 1\n",
    "\n",
    "**Q1:** Pourquoi le modèle polynomial performe-t-il mieux ?\n",
    "\n",
    "*Votre réponse:*\n",
    "\n",
    "**Q2:** Que se passerait-il si vous utilisiez un degré polynomial trop élevé (par exemple, degré 10) ?\n",
    "\n",
    "*Votre réponse:*"
   ]
  },
  {
   "cell_type": "markdown",
   "metadata": {},
   "source": [
    "---\n",
    "\n",
    "## Exercice 2 : Classification avec données déséquilibrées\n",
    "\n",
    "### Contexte\n",
    "En neurosciences, il est fréquent d'avoir des classes déséquilibrées (par exemple, beaucoup plus d'essais dans une direction que dans une autre). Dans cet exercice, vous allez apprendre à gérer ce problème."
   ]
  },
  {
   "cell_type": "code",
   "execution_count": null,
   "metadata": {},
   "outputs": [],
   "source": [
    "# Créer des données déséquilibrées\n",
    "np.random.seed(42)\n",
    "\n",
    "# Classe 0: 80 échantillons\n",
    "X_class0 = np.random.randn(80, 2) + np.array([-2, -2])\n",
    "y_class0 = np.zeros(80)\n",
    "\n",
    "# Classe 1: 20 échantillons (minoritaire)\n",
    "X_class1 = np.random.randn(20, 2) + np.array([2, 2])\n",
    "y_class1 = np.ones(20)\n",
    "\n",
    "# Combiner\n",
    "X_ex2 = np.vstack([X_class0, X_class1])\n",
    "y_ex2 = np.hstack([y_class0, y_class1])\n",
    "\n",
    "# Visualisation\n",
    "plt.figure(figsize=(10, 6))\n",
    "plt.scatter(X_ex2[y_ex2==0, 0], X_ex2[y_ex2==0, 1], \n",
    "           c='blue', label=f'Classe 0 (n={np.sum(y_ex2==0)})', alpha=0.6, edgecolors='k')\n",
    "plt.scatter(X_ex2[y_ex2==1, 0], X_ex2[y_ex2==1, 1], \n",
    "           c='red', label=f'Classe 1 (n={np.sum(y_ex2==1)})', alpha=0.6, edgecolors='k')\n",
    "plt.xlabel('Feature 1')\n",
    "plt.ylabel('Feature 2')\n",
    "plt.title('Dataset avec classes déséquilibrées (80/20)')\n",
    "plt.legend()\n",
    "plt.grid(True, alpha=0.3)\n",
    "plt.show()\n",
    "\n",
    "print(f\"⚖️ Déséquilibre:\")\n",
    "print(f\"   Classe 0: {np.sum(y_ex2==0)} échantillons ({np.sum(y_ex2==0)/len(y_ex2)*100:.1f}%)\")\n",
    "print(f\"   Classe 1: {np.sum(y_ex2==1)} échantillons ({np.sum(y_ex2==1)/len(y_ex2)*100:.1f}%)\")"
   ]
  },
  {
   "cell_type": "markdown",
   "metadata": {},
   "source": [
    "### Tâche 2.1 : Modèle sans pondération\n",
    "\n",
    "Entraînez un modèle de régression logistique standard."
   ]
  },
  {
   "cell_type": "code",
   "execution_count": null,
   "metadata": {},
   "outputs": [],
   "source": [
    "# Division des données\n",
    "X_train_ex2, X_test_ex2, y_train_ex2, y_test_ex2 = train_test_split(\n",
    "    X_ex2, y_ex2, test_size=0.3, random_state=42, stratify=y_ex2\n",
    ")\n",
    "\n",
    "# TODO: Entraîner le modèle sans pondération\n",
    "model_unweighted = LogisticRegression(random_state=42)\n",
    "# Votre code ici\n",
    "\n",
    "\n",
    "# TODO: Prédictions et évaluation\n",
    "y_pred_unweighted = # Votre code ici\n",
    "accuracy_unweighted = # Votre code ici\n",
    "\n",
    "print(f\"📈 Accuracy (sans pondération): {accuracy_unweighted:.4f}\")\n",
    "\n",
    "# Matrice de confusion\n",
    "cm_unweighted = confusion_matrix(y_test_ex2, y_pred_unweighted)\n",
    "\n",
    "plt.figure(figsize=(8, 6))\n",
    "sns.heatmap(cm_unweighted, annot=True, fmt='d', cmap='Blues',\n",
    "           xticklabels=['Classe 0', 'Classe 1'],\n",
    "           yticklabels=['Classe 0', 'Classe 1'])\n",
    "plt.xlabel('Prédiction')\n",
    "plt.ylabel('Vraie classe')\n",
    "plt.title('Matrice de confusion (sans pondération)')\n",
    "plt.show()\n",
    "\n",
    "print(f\"\\n💡 Question: Le modèle performe-t-il bien sur la classe minoritaire (classe 1)?\")"
   ]
  },
  {
   "cell_type": "markdown",
   "metadata": {},
   "source": [
    "### Tâche 2.2 : Modèle avec pondération\n",
    "\n",
    "Utilisez `class_weight='balanced'` pour donner plus d'importance à la classe minoritaire."
   ]
  },
  {
   "cell_type": "code",
   "execution_count": null,
   "metadata": {},
   "outputs": [],
   "source": [
    "# TODO: Entraîner le modèle avec pondération équilibrée\n",
    "model_weighted = LogisticRegression(class_weight='balanced', random_state=42)\n",
    "# Votre code ici\n",
    "\n",
    "\n",
    "# TODO: Prédictions et évaluation\n",
    "y_pred_weighted = # Votre code ici\n",
    "accuracy_weighted = # Votre code ici\n",
    "\n",
    "print(f\"📈 Accuracy (avec pondération): {accuracy_weighted:.4f}\")\n",
    "\n",
    "# Matrice de confusion\n",
    "cm_weighted = confusion_matrix(y_test_ex2, y_pred_weighted)\n",
    "\n",
    "# Comparaison côte à côte\n",
    "fig, axes = plt.subplots(1, 2, figsize=(15, 6))\n",
    "\n",
    "sns.heatmap(cm_unweighted, annot=True, fmt='d', cmap='Blues', ax=axes[0],\n",
    "           xticklabels=['Classe 0', 'Classe 1'],\n",
    "           yticklabels=['Classe 0', 'Classe 1'])\n",
    "axes[0].set_title('Sans pondération')\n",
    "axes[0].set_xlabel('Prédiction')\n",
    "axes[0].set_ylabel('Vraie classe')\n",
    "\n",
    "sns.heatmap(cm_weighted, annot=True, fmt='d', cmap='Greens', ax=axes[1],\n",
    "           xticklabels=['Classe 0', 'Classe 1'],\n",
    "           yticklabels=['Classe 0', 'Classe 1'])\n",
    "axes[1].set_title('Avec pondération')\n",
    "axes[1].set_xlabel('Prédiction')\n",
    "axes[1].set_ylabel('Vraie classe')\n",
    "\n",
    "plt.tight_layout()\n",
    "plt.show()\n",
    "\n",
    "print(f\"\\n📊 Comparaison:\")\n",
    "print(f\"   Vrais positifs (classe 1):\")\n",
    "print(f\"      Sans pondération: {cm_unweighted[1,1]}\")\n",
    "print(f\"      Avec pondération: {cm_weighted[1,1]}\")"
   ]
  },
  {
   "cell_type": "markdown",
   "metadata": {},
   "source": [
    "### Question de réflexion 2\n",
    "\n",
    "**Q1:** Quelle différence observez-vous dans les matrices de confusion ?\n",
    "\n",
    "*Votre réponse:*\n",
    "\n",
    "**Q2:** Dans quel contexte clinique ou de recherche serait-il crucial d'utiliser class_weight='balanced' ?\n",
    "\n",
    "*Votre réponse:*"
   ]
  },
  {
   "cell_type": "markdown",
   "metadata": {},
   "source": [
    "---\n",
    "\n",
    "## Exercice 3 : Limites des modèles linéaires\n",
    "\n",
    "### Contexte\n",
    "Les modèles linéaires ont des limites importantes. Dans cet exercice, vous allez voir un cas où la classification linéaire échoue complètement."
   ]
  },
  {
   "cell_type": "code",
   "execution_count": null,
   "metadata": {},
   "outputs": [],
   "source": [
    "# Créer des données en cercles (non linéairement séparables)\n",
    "X_circles, y_circles = make_circles(n_samples=300, noise=0.1, factor=0.5, random_state=42)\n",
    "\n",
    "# Visualisation\n",
    "plt.figure(figsize=(10, 6))\n",
    "plt.scatter(X_circles[y_circles==0, 0], X_circles[y_circles==0, 1],\n",
    "           c='blue', label='Classe 0 (cercle extérieur)', alpha=0.6, edgecolors='k')\n",
    "plt.scatter(X_circles[y_circles==1, 0], X_circles[y_circles==1, 1],\n",
    "           c='red', label='Classe 1 (cercle intérieur)', alpha=0.6, edgecolors='k')\n",
    "plt.xlabel('Feature 1')\n",
    "plt.ylabel('Feature 2')\n",
    "plt.title('Dataset avec classes non linéairement séparables')\n",
    "plt.legend()\n",
    "plt.grid(True, alpha=0.3)\n",
    "plt.axis('equal')\n",
    "plt.show()\n",
    "\n",
    "print(\"💡 Observation: Aucune ligne droite ne peut séparer ces deux classes!\")"
   ]
  },
  {
   "cell_type": "markdown",
   "metadata": {},
   "source": [
    "### Tâche 3.1 : Essayer la régression logistique standard"
   ]
  },
  {
   "cell_type": "code",
   "execution_count": null,
   "metadata": {},
   "outputs": [],
   "source": [
    "# Division des données\n",
    "X_train_circles, X_test_circles, y_train_circles, y_test_circles = train_test_split(\n",
    "    X_circles, y_circles, test_size=0.3, random_state=42\n",
    ")\n",
    "\n",
    "# TODO: Entraîner un modèle de régression logistique\n",
    "model_circles = LogisticRegression(random_state=42)\n",
    "# Votre code ici\n",
    "\n",
    "\n",
    "# TODO: Évaluation\n",
    "y_pred_circles = # Votre code ici\n",
    "accuracy_circles = # Votre code ici\n",
    "\n",
    "print(f\"📈 Accuracy: {accuracy_circles:.4f}\")\n",
    "print(f\"\\n💡 Cette accuracy est proche de 50% (hasard) - le modèle linéaire échoue!\")\n",
    "\n",
    "# Visualiser la frontière de décision\n",
    "def plot_decision_boundary_circles(model, X, y):\n",
    "    h = 0.02\n",
    "    x_min, x_max = X[:, 0].min() - 0.5, X[:, 0].max() + 0.5\n",
    "    y_min, y_max = X[:, 1].min() - 0.5, X[:, 1].max() + 0.5\n",
    "    xx, yy = np.meshgrid(np.arange(x_min, x_max, h),\n",
    "                         np.arange(y_min, y_max, h))\n",
    "    Z = model.predict(np.c_[xx.ravel(), yy.ravel()])\n",
    "    Z = Z.reshape(xx.shape)\n",
    "    \n",
    "    plt.figure(figsize=(10, 6))\n",
    "    plt.contourf(xx, yy, Z, alpha=0.3, levels=1, colors=['blue', 'red'])\n",
    "    plt.scatter(X[y==0, 0], X[y==0, 1], c='blue', label='Classe 0',\n",
    "               alpha=0.7, edgecolors='k', s=50)\n",
    "    plt.scatter(X[y==1, 0], X[y==1, 1], c='red', label='Classe 1',\n",
    "               alpha=0.7, edgecolors='k', s=50)\n",
    "    plt.xlabel('Feature 1')\n",
    "    plt.ylabel('Feature 2')\n",
    "    plt.title('Frontière de décision (régression logistique linéaire)')\n",
    "    plt.legend()\n",
    "    plt.axis('equal')\n",
    "    plt.grid(True, alpha=0.3)\n",
    "    plt.show()\n",
    "\n",
    "plot_decision_boundary_circles(model_circles, X_circles, y_circles)"
   ]
  },
  {
   "cell_type": "markdown",
   "metadata": {},
   "source": [
    "### Tâche 3.2 : Améliorer avec des features non-linéaires\n",
    "\n",
    "Créez des features non-linéaires pour améliorer la classification."
   ]
  },
  {
   "cell_type": "code",
   "execution_count": null,
   "metadata": {},
   "outputs": [],
   "source": [
    "# TODO: Créer des features polynomiales (essayez degré 2)\n",
    "poly_circles = PolynomialFeatures(degree=2, include_bias=False)\n",
    "X_circles_poly = # Votre code ici\n",
    "\n",
    "print(f\"Forme originale: {X_circles.shape}\")\n",
    "print(f\"Forme avec features polynomiales: {X_circles_poly.shape}\")\n",
    "\n",
    "# Division\n",
    "X_train_poly, X_test_poly, y_train_poly, y_test_poly = train_test_split(\n",
    "    X_circles_poly, y_circles, test_size=0.3, random_state=42\n",
    ")\n",
    "\n",
    "# TODO: Entraîner le modèle sur les features polynomiales\n",
    "model_circles_poly = LogisticRegression(random_state=42, max_iter=1000)\n",
    "# Votre code ici\n",
    "\n",
    "\n",
    "# TODO: Évaluation\n",
    "y_pred_circles_poly = # Votre code ici\n",
    "accuracy_circles_poly = # Votre code ici\n",
    "\n",
    "print(f\"\\n📈 Performance:\")\n",
    "print(f\"   Linéaire: {accuracy_circles:.4f}\")\n",
    "print(f\"   Polynomial: {accuracy_circles_poly:.4f}\")\n",
    "print(f\"\\n✨ Amélioration: {(accuracy_circles_poly - accuracy_circles)*100:.2f}%\")"
   ]
  },
  {
   "cell_type": "markdown",
   "metadata": {},
   "source": [
    "### Question de réflexion 3\n",
    "\n",
    "**Q1:** Pourquoi le modèle polynomial performe-t-il mieux ?\n",
    "\n",
    "*Votre réponse:*\n",
    "\n",
    "**Q2:** Quelles sont les alternatives aux features polynomiales pour gérer des données non linéairement séparables ?\n",
    "\n",
    "*Votre réponse (indices: réseaux de neurones, SVM avec kernel, etc.):*"
   ]
  },
  {
   "cell_type": "markdown",
   "metadata": {},
   "source": [
    "---\n",
    "\n",
    "## Exercice 4 : Projet intégratif - Prédiction de performance cognitive\n",
    "\n",
    "### Contexte\n",
    "Vous avez des données simulées d'une étude en neurosciences où on mesure :\n",
    "- Activité de plusieurs régions cérébrales (features)\n",
    "- Score de performance à une tâche cognitive (cible)\n",
    "\n",
    "**Votre mission :** Construire le meilleur modèle prédictif possible."
   ]
  },
  {
   "cell_type": "code",
   "execution_count": null,
   "metadata": {},
   "outputs": [],
   "source": [
    "# Générer des données simulées\n",
    "np.random.seed(123)\n",
    "\n",
    "n_subjects = 150\n",
    "n_regions = 8  # 8 régions cérébrales\n",
    "\n",
    "# Activité cérébrale (features)\n",
    "X_cog = np.random.randn(n_subjects, n_regions) * 10 + 50\n",
    "\n",
    "# Score de performance (relation complexe)\n",
    "# Certaines régions contribuent plus que d'autres\n",
    "weights_true = np.array([2.0, 1.5, 0.5, -0.8, 1.0, 0.3, 1.8, -0.5])\n",
    "y_cog = X_cog.dot(weights_true) + np.random.randn(n_subjects) * 15 + 200\n",
    "\n",
    "# Normaliser le score entre 0 et 100\n",
    "y_cog = (y_cog - y_cog.min()) / (y_cog.max() - y_cog.min()) * 100\n",
    "\n",
    "print(f\"📊 Dataset:\")\n",
    "print(f\"   Nombre de sujets: {n_subjects}\")\n",
    "print(f\"   Nombre de régions cérébrales: {n_regions}\")\n",
    "print(f\"   Score moyen: {y_cog.mean():.2f}\")\n",
    "print(f\"   Score std: {y_cog.std():.2f}\")"
   ]
  },
  {
   "cell_type": "markdown",
   "metadata": {},
   "source": [
    "### Tâche 4.1 : Exploration des données"
   ]
  },
  {
   "cell_type": "code",
   "execution_count": null,
   "metadata": {},
   "outputs": [],
   "source": [
    "# TODO: Créer des visualisations pour explorer les données\n",
    "# 1. Distribution du score de performance\n",
    "# 2. Corrélation entre chaque région et le score\n",
    "# Votre code ici\n",
    "\n"
   ]
  },
  {
   "cell_type": "markdown",
   "metadata": {},
   "source": [
    "### Tâche 4.2 : Standardisation des données\n",
    "\n",
    "En pratique, il est souvent important de standardiser les features."
   ]
  },
  {
   "cell_type": "code",
   "execution_count": null,
   "metadata": {},
   "outputs": [],
   "source": [
    "# TODO: Diviser les données en train/test\n",
    "X_train_cog, X_test_cog, y_train_cog, y_test_cog = # Votre code ici\n",
    "\n",
    "# TODO: Standardiser les features (moyenne=0, std=1)\n",
    "scaler = StandardScaler()\n",
    "X_train_cog_scaled = # Votre code ici\n",
    "X_test_cog_scaled = # Votre code ici\n",
    "\n",
    "print(f\"📊 Standardisation:\")\n",
    "print(f\"   Avant - moyenne: {X_train_cog.mean(axis=0)[:3]}...\")\n",
    "print(f\"   Après - moyenne: {X_train_cog_scaled.mean(axis=0)[:3]}...\")\n",
    "print(f\"   Après - std: {X_train_cog_scaled.std(axis=0)[:3]}...\")"
   ]
  },
  {
   "cell_type": "markdown",
   "metadata": {},
   "source": [
    "### Tâche 4.3 : Entraînement et évaluation"
   ]
  },
  {
   "cell_type": "code",
   "execution_count": null,
   "metadata": {},
   "outputs": [],
   "source": [
    "# TODO: Entraîner un modèle de régression linéaire\n",
    "model_cog = # Votre code ici\n",
    "\n",
    "# TODO: Prédictions et évaluation\n",
    "y_train_pred_cog = # Votre code ici\n",
    "y_test_pred_cog = # Votre code ici\n",
    "\n",
    "# TODO: Calculer les métriques\n",
    "train_r2_cog = # Votre code ici\n",
    "test_r2_cog = # Votre code ici\n",
    "train_rmse_cog = # Votre code ici  (RMSE = sqrt(MSE))\n",
    "test_rmse_cog = # Votre code ici\n",
    "\n",
    "print(f\"📈 Performance:\")\n",
    "print(f\"   Train - R²: {train_r2_cog:.4f}, RMSE: {train_rmse_cog:.2f}\")\n",
    "print(f\"   Test  - R²: {test_r2_cog:.4f}, RMSE: {test_rmse_cog:.2f}\")"
   ]
  },
  {
   "cell_type": "markdown",
   "metadata": {},
   "source": [
    "### Tâche 4.4 : Visualisations et interprétation"
   ]
  },
  {
   "cell_type": "code",
   "execution_count": null,
   "metadata": {},
   "outputs": [],
   "source": [
    "# TODO: Créer les visualisations suivantes\n",
    "# 1. Scatter plot: prédictions vs vraies valeurs\n",
    "# 2. Résidus vs prédictions\n",
    "# 3. Importance des régions cérébrales (poids du modèle)\n",
    "# Votre code ici\n",
    "\n"
   ]
  },
  {
   "cell_type": "markdown",
   "metadata": {},
   "source": [
    "### Question de réflexion 4\n",
    "\n",
    "**Q1:** Quelles régions cérébrales sont les plus importantes pour prédire la performance ?\n",
    "\n",
    "*Votre réponse:*\n",
    "\n",
    "**Q2:** Le modèle est-il en surapprentissage (overfitting) ou sous-apprentissage (underfitting) ? Justifiez.\n",
    "\n",
    "*Votre réponse:*\n",
    "\n",
    "**Q3:** Comment pourriez-vous améliorer ce modèle ?\n",
    "\n",
    "*Votre réponse:*"
   ]
  },
  {
   "cell_type": "markdown",
   "metadata": {},
   "source": [
    "---\n",
    "\n",
    "## Exercice Bonus : Implémentation complète from scratch\n",
    "\n",
    "### Défi\n",
    "Implémentez une classe complète de régression linéaire qui supporte :\n",
    "1. Équations normales\n",
    "2. Descente de gradient\n",
    "3. Régularisation Ridge (L2)\n",
    "\n",
    "```python\n",
    "class AdvancedLinearRegression:\n",
    "    def __init__(self, method='normal', alpha=0.01, lambda_reg=0.0, n_iterations=1000):\n",
    "        \"\"\"\n",
    "        Parameters:\n",
    "        -----------\n",
    "        method : str, 'normal' ou 'gradient'\n",
    "        alpha : float, learning rate pour gradient descent\n",
    "        lambda_reg : float, coefficient de régularisation\n",
    "        n_iterations : int, nombre d'itérations pour gradient descent\n",
    "        \"\"\"\n",
    "        # Votre implémentation ici\n",
    "        pass\n",
    "    \n",
    "    def fit(self, X, y):\n",
    "        # Votre implémentation ici\n",
    "        pass\n",
    "    \n",
    "    def predict(self, X):\n",
    "        # Votre implémentation ici\n",
    "        pass\n",
    "```"
   ]
  },
  {
   "cell_type": "code",
   "execution_count": null,
   "metadata": {},
   "outputs": [],
   "source": [
    "# Votre implémentation complète ici\n",
    "# ...\n"
   ]
  },
  {
   "cell_type": "markdown",
   "metadata": {},
   "source": [
    "---\n",
    "\n",
    "## Conclusion\n",
    "\n",
    "Félicitations d'avoir complété ces exercices ! 🎉\n",
    "\n",
    "### Ce que vous avez appris:\n",
    "\n",
    "✅ Comment améliorer les modèles linéaires avec des features polynomiales\n",
    "\n",
    "✅ Gérer les classes déséquilibrées avec la pondération\n",
    "\n",
    "✅ Reconnaître les limites des modèles linéaires\n",
    "\n",
    "✅ Standardiser les données pour de meilleures performances\n",
    "\n",
    "✅ Construire un pipeline complet d'analyse de données\n",
    "\n",
    "✅ Interpréter les résultats et identifier les features importantes\n",
    "\n",
    "### Prochaines étapes:\n",
    "\n",
    "- Explorez des datasets réels (UCI Machine Learning Repository, Kaggle)\n",
    "- Apprenez les réseaux de neurones pour gérer des relations plus complexes\n",
    "- Pratiquez avec vos propres données de recherche en psychologie/neurosciences\n",
    "\n",
    "**Bon apprentissage ! 🚀**"
   ]
  }
 ],
 "metadata": {
  "kernelspec": {
   "display_name": "Python 3",
   "language": "python",
   "name": "python3"
  },
  "language_info": {
   "codemirror_mode": {
    "name": "ipython",
    "version": 3
   },
   "file_extension": ".py",
   "mimetype": "text/x-python",
   "name": "python",
   "nbconvert_exporter": "python",
   "pygments_lexer": "ipython3",
   "version": "3.8.0"
  }
 },
 "nbformat": 4,
 "nbformat_minor": 4
}