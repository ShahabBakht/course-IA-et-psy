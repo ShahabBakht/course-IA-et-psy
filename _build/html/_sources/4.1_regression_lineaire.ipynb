{
 "cells": [
  {
   "cell_type": "markdown",
   "metadata": {},
   "source": [
    "# 4.1 Régression Linéaire en Pratique\n",
    "\n",
    "## PSY3913/6913 - IA, Psychologie et Neuroscience Cognitive\n",
    "\n",
    "Dans ce notebook, nous allons explorer la régression linéaire de manière pratique :\n",
    "1. Créer des données synthétiques\n",
    "2. Implémenter la régression linéaire from scratch\n",
    "3. Visualiser les résultats\n",
    "4. Utiliser scikit-learn\n",
    "5. Appliquer à un exemple de neurosciences"
   ]
  },
  {
   "cell_type": "markdown",
   "metadata": {},
   "source": [
    "## 1. Import des bibliothèques"
   ]
  },
  {
   "cell_type": "code",
   "execution_count": null,
   "metadata": {},
   "outputs": [],
   "source": [
    "import numpy as np\n",
    "import matplotlib.pyplot as plt\n",
    "from sklearn.linear_model import LinearRegression\n",
    "from sklearn.metrics import mean_squared_error, r2_score\n",
    "from sklearn.model_selection import train_test_split\n",
    "\n",
    "# Pour des graphiques plus jolis\n",
    "plt.style.use('seaborn-v0_8-darkgrid')\n",
    "plt.rcParams['figure.figsize'] = (10, 6)\n",
    "\n",
    "# Pour la reproductibilité\n",
    "np.random.seed(42)"
   ]
  },
  {
   "cell_type": "markdown",
   "metadata": {},
   "source": [
    "## 2. Création de données synthétiques simples\n",
    "\n",
    "Commençons avec un exemple simple en 1D : prédire y à partir de x.\n",
    "\n",
    "Nous allons générer des données suivant la relation : **y = 2x + 1 + bruit**"
   ]
  },
  {
   "cell_type": "code",
   "execution_count": null,
   "metadata": {},
   "outputs": [],
   "source": [
    "# Générer des données synthétiques\n",
    "n_samples = 100\n",
    "X = np.random.rand(n_samples, 1) * 10  # Valeurs entre 0 et 10\n",
    "y_true = 2 * X + 1  # Vraie relation linéaire\n",
    "noise = np.random.randn(n_samples, 1) * 2  # Bruit gaussien\n",
    "y = y_true + noise  # Données observées\n",
    "\n",
    "print(f\"Forme de X: {X.shape}\")\n",
    "print(f\"Forme de y: {y.shape}\")\n",
    "print(f\"\\nPremiers échantillons:\")\n",
    "print(f\"X[:5] = {X[:5].flatten()}\")\n",
    "print(f\"y[:5] = {y[:5].flatten()}\")"
   ]
  },
  {
   "cell_type": "markdown",
   "metadata": {},
   "source": [
    "### Visualisation des données"
   ]
  },
  {
   "cell_type": "code",
   "execution_count": null,
   "metadata": {},
   "outputs": [],
   "source": [
    "plt.figure(figsize=(10, 6))\n",
    "plt.scatter(X, y, alpha=0.6, label='Données observées')\n",
    "plt.plot(X, y_true, 'r-', linewidth=2, label='Vraie relation (sans bruit)')\n",
    "plt.xlabel('x', fontsize=12)\n",
    "plt.ylabel('y', fontsize=12)\n",
    "plt.title('Données synthétiques pour la régression linéaire', fontsize=14)\n",
    "plt.legend()\n",
    "plt.grid(True, alpha=0.3)\n",
    "plt.show()\n",
    "\n",
    "print(\"\\n💡 Observation: Les points sont dispersés autour de la ligne rouge (vraie relation)\")\n",
    "print(\"   Le bruit rend les données plus réalistes.\")"
   ]
  },
  {
   "cell_type": "markdown",
   "metadata": {},
   "source": [
    "## 3. Implémentation from scratch : Descente de gradient\n",
    "\n",
    "Nous allons implémenter la régression linéaire en utilisant la descente de gradient.\n",
    "\n",
    "**Rappel :**\n",
    "- Modèle : $\\hat{y} = wx + b$\n",
    "- Loss (MSE) : $L = \\frac{1}{n} \\sum_{i=1}^{n} (y_i - \\hat{y}_i)^2$\n",
    "- Gradients : \n",
    "  - $\\frac{\\partial L}{\\partial w} = -\\frac{2}{n} \\sum_{i=1}^{n} (y_i - \\hat{y}_i) x_i$\n",
    "  - $\\frac{\\partial L}{\\partial b} = -\\frac{2}{n} \\sum_{i=1}^{n} (y_i - \\hat{y}_i)$"
   ]
  },
  {
   "cell_type": "code",
   "execution_count": null,
   "metadata": {},
   "outputs": [],
   "source": [
    "class LinearRegressionGD:\n",
    "    \"\"\"\n",
    "    Régression linéaire avec descente de gradient.\n",
    "    \"\"\"\n",
    "    def __init__(self, learning_rate=0.01, n_iterations=1000):\n",
    "        self.lr = learning_rate\n",
    "        self.n_iterations = n_iterations\n",
    "        self.w = None\n",
    "        self.b = None\n",
    "        self.loss_history = []\n",
    "        \n",
    "    def fit(self, X, y):\n",
    "        \"\"\"\n",
    "        Entraîner le modèle.\n",
    "        \n",
    "        Parameters:\n",
    "        -----------\n",
    "        X : array-like, shape (n_samples, n_features)\n",
    "        y : array-like, shape (n_samples, 1)\n",
    "        \"\"\"\n",
    "        n_samples, n_features = X.shape\n",
    "        \n",
    "        # Initialisation aléatoire des paramètres\n",
    "        self.w = np.random.randn(n_features, 1) * 0.01\n",
    "        self.b = 0\n",
    "        \n",
    "        # Descente de gradient\n",
    "        for i in range(self.n_iterations):\n",
    "            # Prédiction\n",
    "            y_pred = self.predict(X)\n",
    "            \n",
    "            # Calcul de la loss\n",
    "            loss = np.mean((y - y_pred) ** 2)\n",
    "            self.loss_history.append(loss)\n",
    "            \n",
    "            # Calcul des gradients\n",
    "            dw = -(2 / n_samples) * X.T.dot(y - y_pred)\n",
    "            db = -(2 / n_samples) * np.sum(y - y_pred)\n",
    "            \n",
    "            # Mise à jour des paramètres\n",
    "            self.w -= self.lr * dw\n",
    "            self.b -= self.lr * db\n",
    "            \n",
    "            # Affichage occasionnel\n",
    "            if (i + 1) % 100 == 0:\n",
    "                print(f\"Itération {i+1}/{self.n_iterations}, Loss: {loss:.4f}\")\n",
    "    \n",
    "    def predict(self, X):\n",
    "        \"\"\"\n",
    "        Faire des prédictions.\n",
    "        \"\"\"\n",
    "        return X.dot(self.w) + self.b\n",
    "    \n",
    "    def get_params(self):\n",
    "        \"\"\"\n",
    "        Retourner les paramètres appris.\n",
    "        \"\"\"\n",
    "        return {'w': self.w, 'b': self.b}"
   ]
  },
  {
   "cell_type": "markdown",
   "metadata": {},
   "source": [
    "### Entraînement du modèle"
   ]
  },
  {
   "cell_type": "code",
   "execution_count": null,
   "metadata": {},
   "outputs": [],
   "source": [
    "# Créer et entraîner le modèle\n",
    "model_scratch = LinearRegressionGD(learning_rate=0.01, n_iterations=1000)\n",
    "print(\"Entraînement du modèle...\\n\")\n",
    "model_scratch.fit(X, y)\n",
    "\n",
    "# Récupérer les paramètres appris\n",
    "params = model_scratch.get_params()\n",
    "print(f\"\\n📊 Paramètres appris:\")\n",
    "print(f\"   w (poids) = {params['w'][0, 0]:.4f}\")\n",
    "print(f\"   b (biais) = {params['b']:.4f}\")\n",
    "print(f\"\\n🎯 Paramètres vrais:\")\n",
    "print(f\"   w = 2.0000\")\n",
    "print(f\"   b = 1.0000\")"
   ]
  },
  {
   "cell_type": "markdown",
   "metadata": {},
   "source": [
    "### Visualisation de la courbe d'apprentissage"
   ]
  },
  {
   "cell_type": "code",
   "execution_count": null,
   "metadata": {},
   "outputs": [],
   "source": [
    "plt.figure(figsize=(10, 6))\n",
    "plt.plot(model_scratch.loss_history, linewidth=2)\n",
    "plt.xlabel('Itération', fontsize=12)\n",
    "plt.ylabel('Loss (MSE)', fontsize=12)\n",
    "plt.title('Courbe d\\'apprentissage - Évolution de la loss', fontsize=14)\n",
    "plt.grid(True, alpha=0.3)\n",
    "plt.show()\n",
    "\n",
    "print(\"\\n💡 Observation: La loss diminue progressivement et converge.\")\n",
    "print(\"   C'est un signe que l'apprentissage fonctionne bien!\")"
   ]
  },
  {
   "cell_type": "markdown",
   "metadata": {},
   "source": [
    "### Visualisation des prédictions"
   ]
  },
  {
   "cell_type": "code",
   "execution_count": null,
   "metadata": {},
   "outputs": [],
   "source": [
    "# Prédictions\n",
    "y_pred_scratch = model_scratch.predict(X)\n",
    "\n",
    "# Visualisation\n",
    "plt.figure(figsize=(10, 6))\n",
    "plt.scatter(X, y, alpha=0.6, label='Données observées')\n",
    "plt.plot(X, y_true, 'r-', linewidth=2, label='Vraie relation', alpha=0.5)\n",
    "plt.plot(X, y_pred_scratch, 'g-', linewidth=2, label='Prédictions (from scratch)')\n",
    "plt.xlabel('x', fontsize=12)\n",
    "plt.ylabel('y', fontsize=12)\n",
    "plt.title('Régression linéaire - Comparaison', fontsize=14)\n",
    "plt.legend()\n",
    "plt.grid(True, alpha=0.3)\n",
    "plt.show()\n",
    "\n",
    "# Calcul des métriques\n",
    "mse_scratch = np.mean((y - y_pred_scratch) ** 2)\n",
    "r2_scratch = 1 - (np.sum((y - y_pred_scratch) ** 2) / np.sum((y - np.mean(y)) ** 2))\n",
    "\n",
    "print(f\"\\n📈 Performance du modèle (from scratch):\")\n",
    "print(f\"   MSE = {mse_scratch:.4f}\")\n",
    "print(f\"   R² = {r2_scratch:.4f}\")"
   ]
  },
  {
   "cell_type": "markdown",
   "metadata": {},
   "source": [
    "## 4. Utilisation de scikit-learn\n",
    "\n",
    "Maintenant, comparons avec l'implémentation de scikit-learn qui utilise les équations normales (solution analytique)."
   ]
  },
  {
   "cell_type": "code",
   "execution_count": null,
   "metadata": {},
   "outputs": [],
   "source": [
    "# Créer et entraîner le modèle sklearn\n",
    "model_sklearn = LinearRegression()\n",
    "model_sklearn.fit(X, y)\n",
    "\n",
    "# Récupérer les paramètres\n",
    "w_sklearn = model_sklearn.coef_[0, 0]\n",
    "b_sklearn = model_sklearn.intercept_[0]\n",
    "\n",
    "print(f\"📊 Paramètres scikit-learn:\")\n",
    "print(f\"   w (poids) = {w_sklearn:.4f}\")\n",
    "print(f\"   b (biais) = {b_sklearn:.4f}\")\n",
    "\n",
    "# Prédictions\n",
    "y_pred_sklearn = model_sklearn.predict(X)\n",
    "\n",
    "# Métriques\n",
    "mse_sklearn = mean_squared_error(y, y_pred_sklearn)\n",
    "r2_sklearn = r2_score(y, y_pred_sklearn)\n",
    "\n",
    "print(f\"\\n📈 Performance du modèle (scikit-learn):\")\n",
    "print(f\"   MSE = {mse_sklearn:.4f}\")\n",
    "print(f\"   R² = {r2_sklearn:.4f}\")"
   ]
  },
  {
   "cell_type": "markdown",
   "metadata": {},
   "source": [
    "### Comparaison des deux approches"
   ]
  },
  {
   "cell_type": "code",
   "execution_count": null,
   "metadata": {},
   "outputs": [],
   "source": [
    "plt.figure(figsize=(12, 6))\n",
    "plt.scatter(X, y, alpha=0.5, label='Données observées')\n",
    "plt.plot(X, y_pred_scratch, 'g-', linewidth=2, label='From scratch (descente de gradient)', alpha=0.7)\n",
    "plt.plot(X, y_pred_sklearn, 'b--', linewidth=2, label='Scikit-learn (équations normales)', alpha=0.7)\n",
    "plt.xlabel('x', fontsize=12)\n",
    "plt.ylabel('y', fontsize=12)\n",
    "plt.title('Comparaison : From scratch vs Scikit-learn', fontsize=14)\n",
    "plt.legend()\n",
    "plt.grid(True, alpha=0.3)\n",
    "plt.show()\n",
    "\n",
    "print(\"\\n💡 Observation: Les deux approches donnent des résultats très similaires!\")\n",
    "print(\"   Les petites différences sont dues à l'approximation de la descente de gradient.\")"
   ]
  },
  {
   "cell_type": "markdown",
   "metadata": {},
   "source": [
    "## 5. Exemple appliqué : Neurosciences\n",
    "\n",
    "### Problème : Prédire la vitesse de mouvement à partir de l'activité neuronale\n",
    "\n",
    "Simulons des données réalistes où :\n",
    "- **Entrées (X)** : Activité de 10 neurones (firing rates en Hz)\n",
    "- **Sortie (y)** : Vitesse de mouvement (cm/s)"
   ]
  },
  {
   "cell_type": "code",
   "execution_count": null,
   "metadata": {},
   "outputs": [],
   "source": [
    "# Simuler des données de neurosciences\n",
    "np.random.seed(123)\n",
    "\n",
    "n_trials = 200  # Nombre d'essais\n",
    "n_neurons = 10  # Nombre de neurones enregistrés\n",
    "\n",
    "# Générer l'activité neuronale (firing rates entre 0 et 50 Hz)\n",
    "X_neuro = np.random.rand(n_trials, n_neurons) * 50\n",
    "\n",
    "# Simuler la relation : certains neurones contribuent plus que d'autres\n",
    "# Poids vrais : certains neurones sont plus informatifs\n",
    "true_weights = np.array([0.5, 0.8, 0.2, 0.1, 0.6, 0.3, 0.7, 0.4, 0.1, 0.5])\n",
    "true_bias = 10.0\n",
    "\n",
    "# Calculer la vitesse avec du bruit\n",
    "y_neuro_true = X_neuro.dot(true_weights.reshape(-1, 1)) + true_bias\n",
    "noise_neuro = np.random.randn(n_trials, 1) * 5\n",
    "y_neuro = y_neuro_true + noise_neuro\n",
    "\n",
    "print(f\"📊 Dataset de neurosciences:\")\n",
    "print(f\"   Nombre d'essais: {n_trials}\")\n",
    "print(f\"   Nombre de neurones: {n_neurons}\")\n",
    "print(f\"   Forme de X: {X_neuro.shape}\")\n",
    "print(f\"   Forme de y: {y_neuro.shape}\")\n",
    "print(f\"\\n   Vitesse moyenne: {y_neuro.mean():.2f} cm/s\")\n",
    "print(f\"   Vitesse std: {y_neuro.std():.2f} cm/s\")"
   ]
  },
  {
   "cell_type": "markdown",
   "metadata": {},
   "source": [
    "### Division en ensembles d'entraînement et de test"
   ]
  },
  {
   "cell_type": "code",
   "execution_count": null,
   "metadata": {},
   "outputs": [],
   "source": [
    "# Diviser les données : 80% entraînement, 20% test\n",
    "X_train, X_test, y_train, y_test = train_test_split(\n",
    "    X_neuro, y_neuro, test_size=0.2, random_state=42\n",
    ")\n",
    "\n",
    "print(f\"📊 Division des données:\")\n",
    "print(f\"   Entraînement: {X_train.shape[0]} échantillons\")\n",
    "print(f\"   Test: {X_test.shape[0]} échantillons\")"
   ]
  },
  {
   "cell_type": "markdown",
   "metadata": {},
   "source": [
    "### Entraînement du modèle"
   ]
  },
  {
   "cell_type": "code",
   "execution_count": null,
   "metadata": {},
   "outputs": [],
   "source": [
    "# Entraîner le modèle\n",
    "model_neuro = LinearRegression()\n",
    "model_neuro.fit(X_train, y_train)\n",
    "\n",
    "# Prédictions\n",
    "y_train_pred = model_neuro.predict(X_train)\n",
    "y_test_pred = model_neuro.predict(X_test)\n",
    "\n",
    "# Métriques\n",
    "train_mse = mean_squared_error(y_train, y_train_pred)\n",
    "test_mse = mean_squared_error(y_test, y_test_pred)\n",
    "train_r2 = r2_score(y_train, y_train_pred)\n",
    "test_r2 = r2_score(y_test, y_test_pred)\n",
    "\n",
    "print(f\"📈 Performance sur l'ensemble d'entraînement:\")\n",
    "print(f\"   MSE = {train_mse:.4f}\")\n",
    "print(f\"   R² = {train_r2:.4f}\")\n",
    "print(f\"\\n📈 Performance sur l'ensemble de test:\")\n",
    "print(f\"   MSE = {test_mse:.4f}\")\n",
    "print(f\"   R² = {test_r2:.4f}\")"
   ]
  },
  {
   "cell_type": "markdown",
   "metadata": {},
   "source": [
    "### Visualisation : Prédictions vs Vraies valeurs"
   ]
  },
  {
   "cell_type": "code",
   "execution_count": null,
   "metadata": {},
   "outputs": [],
   "source": [
    "fig, axes = plt.subplots(1, 2, figsize=(15, 6))\n",
    "\n",
    "# Ensemble d'entraînement\n",
    "axes[0].scatter(y_train, y_train_pred, alpha=0.6)\n",
    "axes[0].plot([y_train.min(), y_train.max()], [y_train.min(), y_train.max()], \n",
    "             'r--', linewidth=2, label='Ligne parfaite (y=ŷ)')\n",
    "axes[0].set_xlabel('Vitesse réelle (cm/s)', fontsize=12)\n",
    "axes[0].set_ylabel('Vitesse prédite (cm/s)', fontsize=12)\n",
    "axes[0].set_title(f'Ensemble d\\'entraînement\\nR² = {train_r2:.3f}', fontsize=13)\n",
    "axes[0].legend()\n",
    "axes[0].grid(True, alpha=0.3)\n",
    "\n",
    "# Ensemble de test\n",
    "axes[1].scatter(y_test, y_test_pred, alpha=0.6, color='green')\n",
    "axes[1].plot([y_test.min(), y_test.max()], [y_test.min(), y_test.max()], \n",
    "             'r--', linewidth=2, label='Ligne parfaite (y=ŷ)')\n",
    "axes[1].set_xlabel('Vitesse réelle (cm/s)', fontsize=12)\n",
    "axes[1].set_ylabel('Vitesse prédite (cm/s)', fontsize=12)\n",
    "axes[1].set_title(f'Ensemble de test\\nR² = {test_r2:.3f}', fontsize=13)\n",
    "axes[1].legend()\n",
    "axes[1].grid(True, alpha=0.3)\n",
    "\n",
    "plt.tight_layout()\n",
    "plt.show()\n",
    "\n",
    "print(\"\\n💡 Observation: Les points sont bien alignés sur la ligne y=ŷ,\")\n",
    "print(\"   ce qui indique que le modèle fait de bonnes prédictions!\")"
   ]
  },
  {
   "cell_type": "markdown",
   "metadata": {},
   "source": [
    "### Analyse des poids : Quels neurones sont importants ?"
   ]
  },
  {
   "cell_type": "code",
   "execution_count": null,
   "metadata": {},
   "outputs": [],
   "source": [
    "# Récupérer les poids appris\n",
    "learned_weights = model_neuro.coef_[0]\n",
    "\n",
    "# Visualisation\n",
    "fig, axes = plt.subplots(1, 2, figsize=(15, 6))\n",
    "\n",
    "# Comparaison poids vrais vs appris\n",
    "x_pos = np.arange(n_neurons)\n",
    "width = 0.35\n",
    "\n",
    "axes[0].bar(x_pos - width/2, true_weights, width, label='Poids vrais', alpha=0.8)\n",
    "axes[0].bar(x_pos + width/2, learned_weights, width, label='Poids appris', alpha=0.8)\n",
    "axes[0].set_xlabel('Neurone', fontsize=12)\n",
    "axes[0].set_ylabel('Poids', fontsize=12)\n",
    "axes[0].set_title('Comparaison des poids', fontsize=13)\n",
    "axes[0].set_xticks(x_pos)\n",
    "axes[0].set_xticklabels([f'N{i+1}' for i in range(n_neurons)])\n",
    "axes[0].legend()\n",
    "axes[0].grid(True, alpha=0.3, axis='y')\n",
    "\n",
    "# Importance relative (valeur absolue)\n",
    "importance = np.abs(learned_weights)\n",
    "sorted_idx = np.argsort(importance)[::-1]\n",
    "\n",
    "axes[1].barh(range(n_neurons), importance[sorted_idx], alpha=0.8)\n",
    "axes[1].set_yticks(range(n_neurons))\n",
    "axes[1].set_yticklabels([f'Neurone {i+1}' for i in sorted_idx])\n",
    "axes[1].set_xlabel('Importance (|poids|)', fontsize=12)\n",
    "axes[1].set_title('Importance relative des neurones', fontsize=13)\n",
    "axes[1].grid(True, alpha=0.3, axis='x')\n",
    "\n",
    "plt.tight_layout()\n",
    "plt.show()\n",
    "\n",
    "print(f\"\\n🧠 Analyse des neurones:\")\n",
    "print(f\"\\n   Top 3 neurones les plus informatifs:\")\n",
    "for i, idx in enumerate(sorted_idx[:3]):\n",
    "    print(f\"   {i+1}. Neurone {idx+1}: poids = {learned_weights[idx]:.3f}\")"
   ]
  },
  {
   "cell_type": "markdown",
   "metadata": {},
   "source": [
    "### Analyse des résidus (erreurs)"
   ]
  },
  {
   "cell_type": "code",
   "execution_count": null,
   "metadata": {},
   "outputs": [],
   "source": [
    "# Calculer les résidus\n",
    "residuals_train = y_train - y_train_pred\n",
    "residuals_test = y_test - y_test_pred\n",
    "\n",
    "fig, axes = plt.subplots(2, 2, figsize=(15, 10))\n",
    "\n",
    "# Résidus vs Prédictions (entraînement)\n",
    "axes[0, 0].scatter(y_train_pred, residuals_train, alpha=0.6)\n",
    "axes[0, 0].axhline(y=0, color='r', linestyle='--', linewidth=2)\n",
    "axes[0, 0].set_xlabel('Prédictions', fontsize=11)\n",
    "axes[0, 0].set_ylabel('Résidus', fontsize=11)\n",
    "axes[0, 0].set_title('Résidus vs Prédictions (entraînement)', fontsize=12)\n",
    "axes[0, 0].grid(True, alpha=0.3)\n",
    "\n",
    "# Résidus vs Prédictions (test)\n",
    "axes[0, 1].scatter(y_test_pred, residuals_test, alpha=0.6, color='green')\n",
    "axes[0, 1].axhline(y=0, color='r', linestyle='--', linewidth=2)\n",
    "axes[0, 1].set_xlabel('Prédictions', fontsize=11)\n",
    "axes[0, 1].set_ylabel('Résidus', fontsize=11)\n",
    "axes[0, 1].set_title('Résidus vs Prédictions (test)', fontsize=12)\n",
    "axes[0, 1].grid(True, alpha=0.3)\n",
    "\n",
    "# Distribution des résidus (entraînement)\n",
    "axes[1, 0].hist(residuals_train, bins=20, alpha=0.7, edgecolor='black')\n",
    "axes[1, 0].axvline(x=0, color='r', linestyle='--', linewidth=2)\n",
    "axes[1, 0].set_xlabel('Résidus', fontsize=11)\n",
    "axes[1, 0].set_ylabel('Fréquence', fontsize=11)\n",
    "axes[1, 0].set_title('Distribution des résidus (entraînement)', fontsize=12)\n",
    "axes[1, 0].grid(True, alpha=0.3, axis='y')\n",
    "\n",
    "# Distribution des résidus (test)\n",
    "axes[1, 1].hist(residuals_test, bins=15, alpha=0.7, color='green', edgecolor='black')\n",
    "axes[1, 1].axvline(x=0, color='r', linestyle='--', linewidth=2)\n",
    "axes[1, 1].set_xlabel('Résidus', fontsize=11)\n",
    "axes[1, 1].set_ylabel('Fréquence', fontsize=11)\n",
    "axes[1, 1].set_title('Distribution des résidus (test)', fontsize=12)\n",
    "axes[1, 1].grid(True, alpha=0.3, axis='y')\n",
    "\n",
    "plt.tight_layout()\n",
    "plt.show()\n",
    "\n",
    "print(\"\\n💡 Observations:\")\n",
    "print(\"   1. Les résidus sont distribués de manière aléatoire autour de 0\")\n",
    "print(\"   2. Pas de pattern visible → le modèle linéaire est approprié\")\n",
    "print(\"   3. Distribution approximativement gaussienne → hypothèses respectées\")"
   ]
  },
  {
   "cell_type": "markdown",
   "metadata": {},
   "source": [
    "## 6. Exercice pratique\n",
    "\n",
    "### À vous de jouer ! \n",
    "\n",
    "**Exercice :** Modifiez le code ci-dessus pour :\n",
    "1. Changer le nombre de neurones (essayez avec 5 ou 20 neurones)\n",
    "2. Augmenter le bruit dans les données\n",
    "3. Observer comment la performance (R²) change\n",
    "\n",
    "**Questions de réflexion :**\n",
    "- Que se passe-t-il si vous avez très peu de données d'entraînement ?\n",
    "- Comment la performance change-t-elle avec plus de neurones ?\n",
    "- Que se passe-t-il si certains neurones ne sont pas informatifs (poids = 0) ?"
   ]
  },
  {
   "cell_type": "code",
   "execution_count": null,
   "metadata": {},
   "outputs": [],
   "source": [
    "# Votre code ici\n",
    "# ...\n"
   ]
  },
  {
   "cell_type": "markdown",
   "metadata": {},
   "source": [
    "## 7. Conclusion\n",
    "\n",
    "Dans ce notebook, nous avons :\n",
    "\n",
    "✅ Implémenté la régression linéaire from scratch avec la descente de gradient\n",
    "\n",
    "✅ Utilisé scikit-learn pour une implémentation robuste\n",
    "\n",
    "✅ Appliqué la régression à un problème de neurosciences\n",
    "\n",
    "✅ Appris à évaluer et visualiser les performances\n",
    "\n",
    "✅ Interprété les poids pour comprendre l'importance des features\n",
    "\n",
    "### Points clés à retenir:\n",
    "\n",
    "1. **La régression linéaire** est un modèle simple mais puissant pour prédire des valeurs continues\n",
    "2. **L'évaluation** doit se faire sur un ensemble de test séparé\n",
    "3. **R²** mesure la proportion de variance expliquée (0 à 1, plus c'est élevé, mieux c'est)\n",
    "4. **Les résidus** doivent être distribués aléatoirement autour de 0\n",
    "5. **Les poids** indiquent l'importance relative des features\n",
    "\n",
    "### Prochaine étape:\n",
    "Passez au notebook **4.2_classification_lineaire.ipynb** pour explorer la classification linéaire!"
   ]
  }
 ],
 "metadata": {
  "kernelspec": {
   "display_name": "Python 3",
   "language": "python",
   "name": "python3"
  },
  "language_info": {
   "codemirror_mode": {
    "name": "ipython",
    "version": 3
   },
   "file_extension": ".py",
   "mimetype": "text/x-python",
   "name": "python",
   "nbconvert_exporter": "python",
   "pygments_lexer": "ipython3",
   "version": "3.8.0"
  }
 },
 "nbformat": 4,
 "nbformat_minor": 4
}
